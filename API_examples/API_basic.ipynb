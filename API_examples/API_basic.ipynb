{
 "cells": [
  {
   "cell_type": "code",
   "execution_count": 1,
   "metadata": {},
   "outputs": [],
   "source": [
    "#Import a few libraries\n",
    "import glob\n",
    "from pathlib import Path\n",
    "import os\n",
    "import sys\n",
    "import numpy as np\n",
    "from scipy.io import loadmat"
   ]
  },
  {
   "cell_type": "code",
   "execution_count": 2,
   "metadata": {},
   "outputs": [],
   "source": [
    "#Path setup\n",
    "#Note that appending path p, which is where MAPIT lies,\n",
    "#is required if MAPIT is not installed as a python package\n",
    "#from pip/conda\n",
    "\n",
    "#Also adjust the path for analysis data, F\n",
    "#if needbe. This assumes csv data which\n",
    "#is derived from the included dataset\n",
    "x = Path(os.getcwd()).resolve().parents[0]\n",
    "p = Path(os.getcwd()).resolve().parents[1]\n",
    "sys.path.append(str(p))\n",
    "F = os.path.join(x, 'debug_data','csv')"
   ]
  },
  {
   "cell_type": "code",
   "execution_count": 3,
   "metadata": {},
   "outputs": [],
   "source": [
    "from MAPIT.core import Preprocessing, StatsTests, AuxFunctions"
   ]
  },
  {
   "attachments": {},
   "cell_type": "markdown",
   "metadata": {},
   "source": [
    "---\n",
    "\n",
    "<div align=\"center\">\n",
    "\n",
    "#  Data import \n",
    "### The following blocks of code will change based on individual use cases\n",
    "\n",
    "</div>\n",
    "\n",
    "\n",
    "\n",
    "---"
   ]
  },
  {
   "cell_type": "code",
   "execution_count": 4,
   "metadata": {},
   "outputs": [],
   "source": [
    "#This sets a path object for the \n",
    "#inputs, inventories, and outputs\n",
    "indir = os.path.join(F,'input')\n",
    "invdir = os.path.join(F,'inventory')\n",
    "outdir = os.path.join(F,'output')\n"
   ]
  },
  {
   "cell_type": "code",
   "execution_count": 5,
   "metadata": {},
   "outputs": [],
   "source": [
    "#Use glob to get list of files\n",
    "#For each measurement type\n",
    "infiles = glob.glob(indir+'/*.csv')\n",
    "invfiles = glob.glob(invdir+'/*.csv')\n",
    "outfiles = glob.glob(outdir+'/*.csv')"
   ]
  },
  {
   "cell_type": "code",
   "execution_count": 6,
   "metadata": {},
   "outputs": [],
   "source": [
    "#This just makes sure that the matrix shape\n",
    "#of the csv data is \n",
    "# samples, features (time, values for MAPIT)\n",
    "def checkImportAxes(d):\n",
    "  if d.shape[0] < d.shape[1]:\n",
    "    np.swapaxes(d,0,1)\n",
    "  \n",
    "  return d"
   ]
  },
  {
   "cell_type": "code",
   "execution_count": 7,
   "metadata": {},
   "outputs": [],
   "source": [
    "#Read in the csv data\n",
    "#And store it in a list (required)\n",
    "indat = []\n",
    "invdat = []\n",
    "outdat = []\n",
    "\n",
    "inTdat = []\n",
    "invTdat = []\n",
    "outTdat = []\n",
    "\n",
    "for i in range(len(infiles)):\n",
    "    z = checkImportAxes(np.loadtxt(infiles[i],delimiter=','))\n",
    "    inTdat.append(z[:,0])\n",
    "    indat.append(z[:,1])\n",
    "\n",
    "for i in range(len(invfiles)):\n",
    "    z = checkImportAxes(np.loadtxt(invfiles[i],delimiter=','))\n",
    "    invTdat.append(z[:,0])\n",
    "    invdat.append(z[:,1])\n",
    "\n",
    "for i in range(len(outfiles)):\n",
    "    z = checkImportAxes(np.loadtxt(outfiles[i],delimiter=','))\n",
    "    outTdat.append(z[:,0])\n",
    "    outdat.append(z[:,1])"
   ]
  },
  {
   "cell_type": "code",
   "execution_count": 8,
   "metadata": {},
   "outputs": [],
   "source": [
    "#alternative loading showing how you might load .mat data\n",
    "#largely based on SSPM-based measurement blocks\n",
    "#note the squeeze_me\n",
    "#TODO: upload data from desktop\n",
    "# F = os.path.join(x, 'debug_data','csv')\n",
    "# x1 = loadmat(F,squeeze_me=True)\n",
    "\n",
    "# invdat = x1['invn']['data']\n",
    "# inpdatt = x1['in']['data']\n",
    "# outdat = x1['outn']['data']\n",
    "\n",
    "# invTdat = x1['invn']['time']\n",
    "# inTdat = x1['in']['time']\n",
    "# outTdat = x1['outn']['time']"
   ]
  },
  {
   "attachments": {},
   "cell_type": "markdown",
   "metadata": {},
   "source": [
    "#### Note that all of the data and time variables are lists that contain arrays. This is because MAPIT supports variable sampling so there might be different numbers of samples for different locations. However, the data, time array pairs should be the same length at each location. For example ``indat[0].shape = inTdat[0].shape``"
   ]
  },
  {
   "cell_type": "code",
   "execution_count": 9,
   "metadata": {},
   "outputs": [
    {
     "name": "stdout",
     "output_type": "stream",
     "text": [
      "<class 'list'>\n",
      "<class 'list'>\n",
      "<class 'list'>\n",
      "<class 'list'>\n",
      "<class 'list'>\n",
      "<class 'list'>\n"
     ]
    }
   ],
   "source": [
    "#Note here that all the data and time\n",
    "#variables are lists that contain arrays,\n",
    "#because MAPIT supports variable sampling,  \n",
    "print(type(indat))\n",
    "print(type(invdat))\n",
    "print(type(outdat))\n",
    "\n",
    "print(type(inTdat))\n",
    "print(type(invTdat))\n",
    "print(type(outTdat))"
   ]
  },
  {
   "attachments": {},
   "cell_type": "markdown",
   "metadata": {},
   "source": [
    "The next block specifies relative standard deviation which is stored in `ErrorMatrix` with `(nlocs,2)`. `nlocs` reflects the total number of locations at each location. The first value in the second dimension (e.g., `ErrorMatrix[:,0]`) refers to the random error whereas the second entry (e.g., `ErrorMatrix[:,1]`) refers to the systematic error.\n",
    "\n",
    "Important: ErrorMatrix expects relative standard deviation (RSD) in decimal form, *not* percentage. For example, a 10% relative standard deviation should be specified as 0.10 \n",
    "\n",
    "Note that for this example, a uniform RSD is specified at 0.5% for all locations\n",
    "\n",
    "A `TotalErrorMatrix` is also specified, which is required for certain statistical operations. It is expected that the locations will be stacked as (inputs, inventories, outputs)\n"
   ]
  },
  {
   "cell_type": "code",
   "execution_count": 10,
   "metadata": {},
   "outputs": [],
   "source": [
    "inputErrorMatrix = np.ones((len(indat),2)) * 0.005 \n",
    "inventoryErrorMatrix = np.ones((len(invdat),2)) * 0.005 \n",
    "outputErrorMatrix = np.ones((len(outdat),2)) * 0.005 \n",
    "TotalErrorMatrix = np.vstack((inputErrorMatrix,inventoryErrorMatrix,outputErrorMatrix))\n",
    "IT = 25\n",
    "mbaTime = 416"
   ]
  },
  {
   "cell_type": "code",
   "execution_count": 11,
   "metadata": {},
   "outputs": [],
   "source": [
    "processedInput, processedInputTimes, \\\n",
    "processedInventory, processedInventoryTimes, \\\n",
    "processedOutput, processedOutputTimes = Preprocessing.FormatInput(\n",
    "                                            rawInput = indat,\n",
    "                                            rawInventory = invdat,\n",
    "                                            rawOutput = outdat,\n",
    "                                            rawInputTimes = inTdat,\n",
    "                                            rawInventoryTimes = invTdat,\n",
    "                                            rawOutputTimes = outTdat)"
   ]
  },
  {
   "cell_type": "code",
   "execution_count": 12,
   "metadata": {},
   "outputs": [],
   "source": [
    "MBPs = AuxFunctions.getMBPs(processedInputTimes,processedInventoryTimes,processedOutputTimes,mbaTime)"
   ]
  },
  {
   "cell_type": "code",
   "execution_count": 13,
   "metadata": {},
   "outputs": [
    {
     "name": "stderr",
     "output_type": "stream",
     "text": [
      "100.00% |██████████|  [Elapsed: 00:00 || Remaining: 00:00]\n",
      "100.00% |██████████|  [Elapsed: 00:00 || Remaining: 00:00]\n",
      "100.00% |██████████|  [Elapsed: 00:01 || Remaining: 00:00]\n"
     ]
    }
   ],
   "source": [
    "inputAppliedError = Preprocessing.SimErrors(\n",
    "                            rawData = processedInput, \n",
    "                            ErrorMatrix =  inputErrorMatrix, \n",
    "                            iterations = IT)\n",
    "\n",
    "inventoryAppliedError = Preprocessing.SimErrors(\n",
    "                            rawData = processedInventory,\n",
    "                            ErrorMatrix =  inventoryErrorMatrix, \n",
    "                            iterations = IT)\n",
    "\n",
    "\n",
    "outputAppliedError = Preprocessing.SimErrors(\n",
    "                            rawData = processedOutput, \n",
    "                            ErrorMatrix =  outputErrorMatrix, \n",
    "                            iterations = IT)"
   ]
  },
  {
   "cell_type": "code",
   "execution_count": 14,
   "metadata": {},
   "outputs": [
    {
     "name": "stdout",
     "output_type": "stream",
     "text": [
      "<class 'list'>\n",
      "<class 'list'>\n",
      "<class 'list'>\n",
      "True\n"
     ]
    }
   ],
   "source": [
    "print(type(indat))\n",
    "print(type(invdat))\n",
    "print(type(outdat))\n",
    "\n",
    "print(processedInput[0].shape == inputAppliedError[0].shape[1:])"
   ]
  },
  {
   "cell_type": "code",
   "execution_count": 15,
   "metadata": {},
   "outputs": [
    {
     "data": {
      "text/plain": [
       "(25, 130049, 1)"
      ]
     },
     "execution_count": 15,
     "metadata": {},
     "output_type": "execute_result"
    }
   ],
   "source": [
    "inputAppliedError[0].shape"
   ]
  },
  {
   "cell_type": "code",
   "execution_count": 16,
   "metadata": {},
   "outputs": [],
   "source": [
    "# test case w/no applied error\n",
    "# inputAppliedError = processedInput\n",
    "# inventoryAppliedError = processedInventory\n",
    "# outputAppliedError = processedOutput"
   ]
  },
  {
   "cell_type": "code",
   "execution_count": 17,
   "metadata": {},
   "outputs": [
    {
     "name": "stderr",
     "output_type": "stream",
     "text": [
      "100.00% |██████████|  [Elapsed: 00:01 || Remaining: 00:00]\n"
     ]
    }
   ],
   "source": [
    "MUF = StatsTests.MUF(inputAppliedError = inputAppliedError,\n",
    "                            inventoryAppliedError= inventoryAppliedError,\n",
    "                            outputAppliedError = outputAppliedError,\n",
    "                            processedInputTimes = processedInputTimes,\n",
    "                            processedInventoryTimes = processedInventoryTimes,\n",
    "                            processedOutputTimes = processedOutputTimes,\n",
    "                            MBP = mbaTime)"
   ]
  },
  {
   "cell_type": "code",
   "execution_count": 18,
   "metadata": {},
   "outputs": [
    {
     "name": "stderr",
     "output_type": "stream",
     "text": [
      "100.00% |██████████|  [Elapsed: 00:00 || Remaining: 00:00]\n"
     ]
    }
   ],
   "source": [
    "CUMUF = StatsTests.CUMUF(MUF=MUF)"
   ]
  },
  {
   "cell_type": "code",
   "execution_count": 19,
   "metadata": {},
   "outputs": [
    {
     "name": "stderr",
     "output_type": "stream",
     "text": [
      "100.00% |██████████|  [Elapsed: 00:01 || Remaining: 00:00]\n"
     ]
    }
   ],
   "source": [
    "SEMUF, _, _, _ = StatsTests.SEMUF(inputAppliedError = inputAppliedError,\n",
    "                                    inventoryAppliedError= inventoryAppliedError,\n",
    "                                    outputAppliedError = outputAppliedError,\n",
    "                                    processedInputTimes = processedInputTimes,\n",
    "                                    processedInventoryTimes = processedInventoryTimes,\n",
    "                                    processedOutputTimes = processedOutputTimes,\n",
    "                                    MBP = mbaTime,\n",
    "                                    ErrorMatrix = TotalErrorMatrix)"
   ]
  },
  {
   "cell_type": "code",
   "execution_count": 20,
   "metadata": {},
   "outputs": [
    {
     "name": "stderr",
     "output_type": "stream",
     "text": [
      "1.67% |▏         |  [Elapsed: 00:17 || Remaining: 00:06]"
     ]
    }
   ],
   "source": [
    "SITMUF = StatsTests.SITMUF(inputAppliedError = inputAppliedError,\n",
    "                                                    inventoryAppliedError= inventoryAppliedError,\n",
    "                                                    outputAppliedError = outputAppliedError,\n",
    "                                                    processedInputTimes = processedInputTimes,\n",
    "                                                    processedInventoryTimes = processedInventoryTimes,\n",
    "                                                    processedOutputTimes = processedOutputTimes,\n",
    "                                                    ErrorMatrix = TotalErrorMatrix,\n",
    "                                                    MBP = mbaTime,\n",
    "                                                    MUF = MUF) "
   ]
  },
  {
   "cell_type": "code",
   "execution_count": 21,
   "metadata": {},
   "outputs": [
    {
     "name": "stderr",
     "output_type": "stream",
     "text": [
      "100%|██████████| 375/375 [00:00<00:00, 144180.40it/s]\n"
     ]
    }
   ],
   "source": [
    "\n",
    "Page = StatsTests.PageTrendTest(SITMUF,mbaTime,MBPs)"
   ]
  }
 ],
 "metadata": {
  "kernelspec": {
   "display_name": "MAPIT_dev",
   "language": "python",
   "name": "python3"
  },
  "language_info": {
   "codemirror_mode": {
    "name": "ipython",
    "version": 3
   },
   "file_extension": ".py",
   "mimetype": "text/x-python",
   "name": "python",
   "nbconvert_exporter": "python",
   "pygments_lexer": "ipython3",
   "version": "3.10.6"
  },
  "orig_nbformat": 4,
  "vscode": {
   "interpreter": {
    "hash": "b821612a82bfe0e3d63fe57290bf9083974d39beedc7e50c9c1c77962a46c969"
   }
  }
 },
 "nbformat": 4,
 "nbformat_minor": 2
}

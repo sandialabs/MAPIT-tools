{
 "cells": [
  {
   "cell_type": "code",
   "execution_count": null,
   "metadata": {},
   "outputs": [],
   "source": [
    "#Import a few libraries\n",
    "import glob\n",
    "from pathlib import Path\n",
    "import os\n",
    "import sys\n",
    "import numpy as np\n",
    "from scipy.io import loadmat\n",
    "import ray\n",
    "from MAPIT.core import StatsProcessor"
   ]
  },
  {
   "cell_type": "code",
   "execution_count": null,
   "metadata": {},
   "outputs": [],
   "source": [
    "F='path/to/csv/folder'"
   ]
  },
  {
   "cell_type": "markdown",
   "metadata": {},
   "source": [
    "---\n",
    "\n",
    "<div align=\"center\">\n",
    "\n",
    "#  Data import \n",
    "### The following blocks of code will change based on individual use cases\n",
    "\n",
    "</div>\n",
    "\n",
    "\n",
    "\n",
    "---"
   ]
  },
  {
   "cell_type": "code",
   "execution_count": null,
   "metadata": {},
   "outputs": [],
   "source": [
    "#This sets a path object for the \n",
    "#inputs, inventories, and outputs\n",
    "indir = os.path.join(F,'input')\n",
    "invdir = os.path.join(F,'inventory')\n",
    "outdir = os.path.join(F,'output')\n"
   ]
  },
  {
   "cell_type": "code",
   "execution_count": null,
   "metadata": {},
   "outputs": [],
   "source": [
    "#Use glob to get list of files\n",
    "#For each measurement type\n",
    "infiles = glob.glob(indir+'/*.csv')\n",
    "invfiles = glob.glob(invdir+'/*.csv')\n",
    "outfiles = glob.glob(outdir+'/*.csv')"
   ]
  },
  {
   "cell_type": "code",
   "execution_count": null,
   "metadata": {},
   "outputs": [],
   "source": [
    "#This just makes sure that the matrix shape\n",
    "#of the csv data is \n",
    "# samples, features (time, values for MAPIT)\n",
    "def checkImportAxes(d):\n",
    "  if d.shape[0] < d.shape[1]:\n",
    "    np.swapaxes(d,0,1)\n",
    "  \n",
    "  return d"
   ]
  },
  {
   "cell_type": "code",
   "execution_count": null,
   "metadata": {},
   "outputs": [],
   "source": [
    "#Read in the csv data\n",
    "#And store it in a list (required)\n",
    "indat = []\n",
    "invdat = []\n",
    "outdat = []\n",
    "\n",
    "inTdat = []\n",
    "invTdat = []\n",
    "outTdat = []\n",
    "\n",
    "for i in range(len(infiles)):\n",
    "    z = checkImportAxes(np.loadtxt(infiles[i],delimiter=','))\n",
    "    inTdat.append(z[:,0])\n",
    "    indat.append(z[:,1])\n",
    "\n",
    "for i in range(len(invfiles)):\n",
    "    z = checkImportAxes(np.loadtxt(invfiles[i],delimiter=','))\n",
    "    invTdat.append(z[:,0])\n",
    "    invdat.append(z[:,1])\n",
    "\n",
    "for i in range(len(outfiles)):\n",
    "    z = checkImportAxes(np.loadtxt(outfiles[i],delimiter=','))\n",
    "    outTdat.append(z[:,0])\n",
    "    outdat.append(z[:,1])"
   ]
  },
  {
   "cell_type": "code",
   "execution_count": null,
   "metadata": {},
   "outputs": [],
   "source": [
    "#alternative loading showing how you might load .mat data\n",
    "#largely based on SSPM-based measurement blocks\n",
    "#note the squeeze_me\n",
    "#TODO: upload data from desktop\n",
    "# F = os.path.join(x, 'debug_data','csv')\n",
    "# x1 = loadmat(F,squeeze_me=True)\n",
    "\n",
    "# invdat = x1['invn']['data']\n",
    "# inpdatt = x1['in']['data']\n",
    "# outdat = x1['outn']['data']\n",
    "\n",
    "# invTdat = x1['invn']['time']\n",
    "# inTdat = x1['in']['time']\n",
    "# outTdat = x1['outn']['time']"
   ]
  },
  {
   "cell_type": "markdown",
   "metadata": {},
   "source": [
    "#### Note that all of the data and time variables are lists that contain arrays. This is because MAPIT supports variable sampling so there might be different numbers of samples for different locations. However, the data, time array pairs should be the same length at each location. For example ``indat[0].shape = inTdat[0].shape``"
   ]
  },
  {
   "cell_type": "code",
   "execution_count": null,
   "metadata": {},
   "outputs": [],
   "source": [
    "#Note here that all the data and time\n",
    "#variables are lists that contain arrays,\n",
    "#because MAPIT supports variable sampling,  \n",
    "print(type(indat))\n",
    "print(type(invdat))\n",
    "print(type(outdat))\n",
    "\n",
    "print(type(inTdat))\n",
    "print(type(invTdat))\n",
    "print(type(outTdat))"
   ]
  },
  {
   "cell_type": "markdown",
   "metadata": {},
   "source": [
    "The next block specifies relative standard deviation which is stored in `ErrorMatrix` with `(nlocs,2)`. `nlocs` reflects the total number of locations at each location. The first value in the second dimension (e.g., `ErrorMatrix[:,0]`) refers to the random error whereas the second entry (e.g., `ErrorMatrix[:,1]`) refers to the systematic error.\n",
    "\n",
    "Important: ErrorMatrix expects relative standard deviation (RSD) in decimal form, *not* percentage. For example, a 10% relative standard deviation should be specified as 0.10 \n",
    "\n",
    "Note that for this example, a uniform RSD is specified at 0.5% for all locations\n",
    "\n",
    "A `TotalErrorMatrix` is also specified, which is required for certain statistical operations. It is expected that the locations will be stacked as (inputs, inventories, outputs)\n"
   ]
  },
  {
   "cell_type": "code",
   "execution_count": null,
   "metadata": {},
   "outputs": [],
   "source": [
    "inputErrorMatrix = np.ones((len(indat),2)) * 0.005 \n",
    "inventoryErrorMatrix = np.ones((len(invdat),2)) * 0.005 \n",
    "outputErrorMatrix = np.ones((len(outdat),2)) * 0.005 \n",
    "IT = 25\n",
    "mbaTime = 416"
   ]
  },
  {
   "cell_type": "code",
   "execution_count": null,
   "metadata": {},
   "outputs": [],
   "source": [
    "MB1 = StatsProcessor.MBArea(rawInput = indat,\n",
    "                                rawInventory = invdat,\n",
    "                                rawOutput = outdat,\n",
    "                                rawInputTimes = inTdat,\n",
    "                                rawInventoryTimes = invTdat,\n",
    "                                rawOutputTimes = outTdat,\n",
    "                                inputErrorMatrix = inputErrorMatrix,\n",
    "                                inventoryErrorMatrix = inventoryErrorMatrix,\n",
    "                                outputErrorMatrix = outputErrorMatrix,\n",
    "                                mbaTime = mbaTime, \n",
    "                                iterations = 400,\n",
    "                                ncpu=4,\n",
    "                                nbatch=100,\n",
    "                                dopar=True,\n",
    "                                doTQDM=True) "
   ]
  },
  {
   "cell_type": "code",
   "execution_count": null,
   "metadata": {},
   "outputs": [],
   "source": [
    "MUF = MB1.calcMUF() "
   ]
  },
  {
   "cell_type": "code",
   "execution_count": null,
   "metadata": {},
   "outputs": [],
   "source": [
    "CUMUF = MB1.calcCUMUF()"
   ]
  },
  {
   "cell_type": "code",
   "execution_count": null,
   "metadata": {},
   "outputs": [],
   "source": [
    "AI = MB1.calcActiveInventory() #5.3"
   ]
  },
  {
   "cell_type": "code",
   "execution_count": null,
   "metadata": {},
   "outputs": [],
   "source": [
    "SEMUF, _, _, _ = MB1.calcSEMUF() "
   ]
  },
  {
   "cell_type": "code",
   "execution_count": null,
   "metadata": {},
   "outputs": [],
   "source": [
    "SEMUFAI, _, _ = MB1.calcSEMUFAI()"
   ]
  },
  {
   "cell_type": "code",
   "execution_count": null,
   "metadata": {},
   "outputs": [],
   "source": [
    "MB1.nbatch=100\n",
    "SITMUF = MB1.calcSITMUF() "
   ]
  },
  {
   "cell_type": "code",
   "execution_count": null,
   "metadata": {},
   "outputs": [],
   "source": [
    "Page = MB1.calcPageTT()"
   ]
  },
  {
   "cell_type": "code",
   "execution_count": null,
   "metadata": {},
   "outputs": [],
   "source": [
    "import matplotlib.pyplot as plt\n",
    "%matplotlib inline\n",
    "plt.plot(Page.T)"
   ]
  },
  {
   "cell_type": "code",
   "execution_count": null,
   "metadata": {},
   "outputs": [],
   "source": [
    "ray.shutdown()"
   ]
  }
 ],
 "metadata": {
  "kernelspec": {
   "display_name": "Python 3 (ipykernel)",
   "language": "python",
   "name": "python3"
  },
  "language_info": {
   "codemirror_mode": {
    "name": "ipython",
    "version": 3
   },
   "file_extension": ".py",
   "mimetype": "text/x-python",
   "name": "python",
   "nbconvert_exporter": "python",
   "pygments_lexer": "ipython3",
   "version": "3.11.9"
  },
  "vscode": {
   "interpreter": {
    "hash": "b821612a82bfe0e3d63fe57290bf9083974d39beedc7e50c9c1c77962a46c969"
   }
  }
 },
 "nbformat": 4,
 "nbformat_minor": 2
}
